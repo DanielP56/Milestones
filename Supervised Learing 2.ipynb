{
 "cells": [
  {
   "cell_type": "markdown",
   "id": "b8a74340",
   "metadata": {},
   "source": [
    "# Import Library"
   ]
  },
  {
   "cell_type": "code",
   "execution_count": 1,
   "id": "2d5214f8",
   "metadata": {},
   "outputs": [],
   "source": [
    "import pandas as pd \n",
    "from sklearn.decomposition import PCA\n",
    "from sklearn.preprocessing import StandardScaler\n",
    "import matplotlib.pyplot as plt\n",
    "import matplotlib.cm as cm\n",
    "import seaborn as sns\n",
    "import numpy as np\n",
    "\n",
    "from sklearn.svm import SVC\n",
    "from sklearn.linear_model import LogisticRegression\n",
    "from sklearn.tree import DecisionTreeClassifier\n",
    "from sklearn.ensemble import RandomForestClassifier\n",
    "\n",
    "from sklearn.model_selection import GridSearchCV\n",
    "\n",
    "from sklearn.model_selection import cross_val_score\n",
    "from sklearn.metrics import mean_absolute_error\n",
    "import warnings\n",
    "warnings.filterwarnings(\"ignore\")"
   ]
  },
  {
   "cell_type": "markdown",
   "id": "be246ec8",
   "metadata": {},
   "source": [
    "# Data Loading"
   ]
  },
  {
   "cell_type": "code",
   "execution_count": 2,
   "id": "cf74895e",
   "metadata": {},
   "outputs": [
    {
     "data": {
      "text/html": [
       "<div>\n",
       "<style scoped>\n",
       "    .dataframe tbody tr th:only-of-type {\n",
       "        vertical-align: middle;\n",
       "    }\n",
       "\n",
       "    .dataframe tbody tr th {\n",
       "        vertical-align: top;\n",
       "    }\n",
       "\n",
       "    .dataframe thead th {\n",
       "        text-align: right;\n",
       "    }\n",
       "</style>\n",
       "<table border=\"1\" class=\"dataframe\">\n",
       "  <thead>\n",
       "    <tr style=\"text-align: right;\">\n",
       "      <th></th>\n",
       "      <th>0</th>\n",
       "      <th>1</th>\n",
       "      <th>2</th>\n",
       "      <th>3</th>\n",
       "      <th>4</th>\n",
       "    </tr>\n",
       "  </thead>\n",
       "  <tbody>\n",
       "    <tr>\n",
       "      <th>long_hair</th>\n",
       "      <td>1</td>\n",
       "      <td>0</td>\n",
       "      <td>0</td>\n",
       "      <td>0</td>\n",
       "      <td>1</td>\n",
       "    </tr>\n",
       "    <tr>\n",
       "      <th>forehead_width_cm</th>\n",
       "      <td>11.8</td>\n",
       "      <td>14.0</td>\n",
       "      <td>11.8</td>\n",
       "      <td>14.4</td>\n",
       "      <td>13.5</td>\n",
       "    </tr>\n",
       "    <tr>\n",
       "      <th>forehead_height_cm</th>\n",
       "      <td>6.1</td>\n",
       "      <td>5.4</td>\n",
       "      <td>6.3</td>\n",
       "      <td>6.1</td>\n",
       "      <td>5.9</td>\n",
       "    </tr>\n",
       "    <tr>\n",
       "      <th>nose_wide</th>\n",
       "      <td>1</td>\n",
       "      <td>0</td>\n",
       "      <td>1</td>\n",
       "      <td>0</td>\n",
       "      <td>0</td>\n",
       "    </tr>\n",
       "    <tr>\n",
       "      <th>nose_long</th>\n",
       "      <td>0</td>\n",
       "      <td>0</td>\n",
       "      <td>1</td>\n",
       "      <td>1</td>\n",
       "      <td>0</td>\n",
       "    </tr>\n",
       "    <tr>\n",
       "      <th>lips_thin</th>\n",
       "      <td>1</td>\n",
       "      <td>1</td>\n",
       "      <td>1</td>\n",
       "      <td>1</td>\n",
       "      <td>0</td>\n",
       "    </tr>\n",
       "    <tr>\n",
       "      <th>distance_nose_to_lip_long</th>\n",
       "      <td>1</td>\n",
       "      <td>0</td>\n",
       "      <td>1</td>\n",
       "      <td>1</td>\n",
       "      <td>0</td>\n",
       "    </tr>\n",
       "    <tr>\n",
       "      <th>gender</th>\n",
       "      <td>Male</td>\n",
       "      <td>Female</td>\n",
       "      <td>Male</td>\n",
       "      <td>Male</td>\n",
       "      <td>Female</td>\n",
       "    </tr>\n",
       "  </tbody>\n",
       "</table>\n",
       "</div>"
      ],
      "text/plain": [
       "                              0       1     2     3       4\n",
       "long_hair                     1       0     0     0       1\n",
       "forehead_width_cm          11.8    14.0  11.8  14.4    13.5\n",
       "forehead_height_cm          6.1     5.4   6.3   6.1     5.9\n",
       "nose_wide                     1       0     1     0       0\n",
       "nose_long                     0       0     1     1       0\n",
       "lips_thin                     1       1     1     1       0\n",
       "distance_nose_to_lip_long     1       0     1     1       0\n",
       "gender                     Male  Female  Male  Male  Female"
      ]
     },
     "execution_count": 2,
     "metadata": {},
     "output_type": "execute_result"
    }
   ],
   "source": [
    "df = pd.read_csv('gender_classification_v7.csv')\n",
    "df.head().T"
   ]
  },
  {
   "cell_type": "code",
   "execution_count": 3,
   "id": "63092606",
   "metadata": {},
   "outputs": [],
   "source": [
    "feature_cols = list(df.select_dtypes('number'))\n",
    "num_cols = ['forehead_width_cm','forehead_height_cm']\n",
    "cat_cols = list(df.select_dtypes(object))"
   ]
  },
  {
   "cell_type": "code",
   "execution_count": 4,
   "id": "6ce0ae5a",
   "metadata": {},
   "outputs": [
    {
     "data": {
      "text/plain": [
       "['long_hair',\n",
       " 'forehead_width_cm',\n",
       " 'forehead_height_cm',\n",
       " 'nose_wide',\n",
       " 'nose_long',\n",
       " 'lips_thin',\n",
       " 'distance_nose_to_lip_long']"
      ]
     },
     "execution_count": 4,
     "metadata": {},
     "output_type": "execute_result"
    }
   ],
   "source": [
    "feature_cols"
   ]
  },
  {
   "cell_type": "code",
   "execution_count": 5,
   "id": "95e91efe",
   "metadata": {},
   "outputs": [
    {
     "data": {
      "text/plain": [
       "['gender']"
      ]
     },
     "execution_count": 5,
     "metadata": {},
     "output_type": "execute_result"
    }
   ],
   "source": [
    "cat_cols"
   ]
  },
  {
   "cell_type": "markdown",
   "id": "75678764",
   "metadata": {},
   "source": [
    "# Cleaning Data"
   ]
  },
  {
   "cell_type": "code",
   "execution_count": 6,
   "id": "cf0f7e89",
   "metadata": {
    "scrolled": true
   },
   "outputs": [
    {
     "data": {
      "text/plain": [
       "long_hair                    False\n",
       "forehead_width_cm            False\n",
       "forehead_height_cm           False\n",
       "nose_wide                    False\n",
       "nose_long                    False\n",
       "lips_thin                    False\n",
       "distance_nose_to_lip_long    False\n",
       "gender                       False\n",
       "dtype: bool"
      ]
     },
     "execution_count": 6,
     "metadata": {},
     "output_type": "execute_result"
    }
   ],
   "source": [
    "df.isnull().any()"
   ]
  },
  {
   "cell_type": "markdown",
   "id": "274332f3",
   "metadata": {},
   "source": [
    "Tidak ada missing value"
   ]
  },
  {
   "cell_type": "code",
   "execution_count": 7,
   "id": "0543296c",
   "metadata": {},
   "outputs": [
    {
     "data": {
      "text/plain": [
       "True"
      ]
     },
     "execution_count": 7,
     "metadata": {},
     "output_type": "execute_result"
    }
   ],
   "source": [
    "df.duplicated().any()"
   ]
  },
  {
   "cell_type": "code",
   "execution_count": 8,
   "id": "9cc1bb0a",
   "metadata": {},
   "outputs": [],
   "source": [
    "df = df.drop_duplicates()"
   ]
  },
  {
   "cell_type": "code",
   "execution_count": 9,
   "id": "5801843a",
   "metadata": {},
   "outputs": [
    {
     "data": {
      "text/plain": [
       "False"
      ]
     },
     "execution_count": 9,
     "metadata": {},
     "output_type": "execute_result"
    }
   ],
   "source": [
    "df.duplicated().any()"
   ]
  },
  {
   "cell_type": "markdown",
   "id": "a4516d04",
   "metadata": {},
   "source": [
    "Membuang data duplikat pada dataset"
   ]
  },
  {
   "cell_type": "markdown",
   "id": "f11c1c1e",
   "metadata": {},
   "source": [
    "# EDA"
   ]
  },
  {
   "cell_type": "code",
   "execution_count": 10,
   "id": "39a9f791",
   "metadata": {},
   "outputs": [
    {
     "data": {
      "text/html": [
       "<div>\n",
       "<style scoped>\n",
       "    .dataframe tbody tr th:only-of-type {\n",
       "        vertical-align: middle;\n",
       "    }\n",
       "\n",
       "    .dataframe tbody tr th {\n",
       "        vertical-align: top;\n",
       "    }\n",
       "\n",
       "    .dataframe thead th {\n",
       "        text-align: right;\n",
       "    }\n",
       "</style>\n",
       "<table border=\"1\" class=\"dataframe\">\n",
       "  <thead>\n",
       "    <tr style=\"text-align: right;\">\n",
       "      <th></th>\n",
       "      <th>count</th>\n",
       "      <th>mean</th>\n",
       "      <th>std</th>\n",
       "      <th>min</th>\n",
       "      <th>25%</th>\n",
       "      <th>50%</th>\n",
       "      <th>75%</th>\n",
       "      <th>max</th>\n",
       "    </tr>\n",
       "  </thead>\n",
       "  <tbody>\n",
       "    <tr>\n",
       "      <th>long_hair</th>\n",
       "      <td>3233.0</td>\n",
       "      <td>0.822456</td>\n",
       "      <td>0.382188</td>\n",
       "      <td>0.0</td>\n",
       "      <td>1.0</td>\n",
       "      <td>1.0</td>\n",
       "      <td>1.0</td>\n",
       "      <td>1.0</td>\n",
       "    </tr>\n",
       "    <tr>\n",
       "      <th>forehead_width_cm</th>\n",
       "      <td>3233.0</td>\n",
       "      <td>13.217198</td>\n",
       "      <td>1.115993</td>\n",
       "      <td>11.4</td>\n",
       "      <td>12.3</td>\n",
       "      <td>13.2</td>\n",
       "      <td>14.1</td>\n",
       "      <td>15.5</td>\n",
       "    </tr>\n",
       "    <tr>\n",
       "      <th>forehead_height_cm</th>\n",
       "      <td>3233.0</td>\n",
       "      <td>5.966038</td>\n",
       "      <td>0.549789</td>\n",
       "      <td>5.1</td>\n",
       "      <td>5.5</td>\n",
       "      <td>5.9</td>\n",
       "      <td>6.4</td>\n",
       "      <td>7.1</td>\n",
       "    </tr>\n",
       "    <tr>\n",
       "      <th>nose_wide</th>\n",
       "      <td>3233.0</td>\n",
       "      <td>0.536344</td>\n",
       "      <td>0.498755</td>\n",
       "      <td>0.0</td>\n",
       "      <td>0.0</td>\n",
       "      <td>1.0</td>\n",
       "      <td>1.0</td>\n",
       "      <td>1.0</td>\n",
       "    </tr>\n",
       "    <tr>\n",
       "      <th>nose_long</th>\n",
       "      <td>3233.0</td>\n",
       "      <td>0.557686</td>\n",
       "      <td>0.496738</td>\n",
       "      <td>0.0</td>\n",
       "      <td>0.0</td>\n",
       "      <td>1.0</td>\n",
       "      <td>1.0</td>\n",
       "      <td>1.0</td>\n",
       "    </tr>\n",
       "    <tr>\n",
       "      <th>lips_thin</th>\n",
       "      <td>3233.0</td>\n",
       "      <td>0.538509</td>\n",
       "      <td>0.498592</td>\n",
       "      <td>0.0</td>\n",
       "      <td>0.0</td>\n",
       "      <td>1.0</td>\n",
       "      <td>1.0</td>\n",
       "      <td>1.0</td>\n",
       "    </tr>\n",
       "    <tr>\n",
       "      <th>distance_nose_to_lip_long</th>\n",
       "      <td>3233.0</td>\n",
       "      <td>0.545314</td>\n",
       "      <td>0.498019</td>\n",
       "      <td>0.0</td>\n",
       "      <td>0.0</td>\n",
       "      <td>1.0</td>\n",
       "      <td>1.0</td>\n",
       "      <td>1.0</td>\n",
       "    </tr>\n",
       "  </tbody>\n",
       "</table>\n",
       "</div>"
      ],
      "text/plain": [
       "                            count       mean       std   min   25%   50%  \\\n",
       "long_hair                  3233.0   0.822456  0.382188   0.0   1.0   1.0   \n",
       "forehead_width_cm          3233.0  13.217198  1.115993  11.4  12.3  13.2   \n",
       "forehead_height_cm         3233.0   5.966038  0.549789   5.1   5.5   5.9   \n",
       "nose_wide                  3233.0   0.536344  0.498755   0.0   0.0   1.0   \n",
       "nose_long                  3233.0   0.557686  0.496738   0.0   0.0   1.0   \n",
       "lips_thin                  3233.0   0.538509  0.498592   0.0   0.0   1.0   \n",
       "distance_nose_to_lip_long  3233.0   0.545314  0.498019   0.0   0.0   1.0   \n",
       "\n",
       "                            75%   max  \n",
       "long_hair                   1.0   1.0  \n",
       "forehead_width_cm          14.1  15.5  \n",
       "forehead_height_cm          6.4   7.1  \n",
       "nose_wide                   1.0   1.0  \n",
       "nose_long                   1.0   1.0  \n",
       "lips_thin                   1.0   1.0  \n",
       "distance_nose_to_lip_long   1.0   1.0  "
      ]
     },
     "execution_count": 10,
     "metadata": {},
     "output_type": "execute_result"
    }
   ],
   "source": [
    "df[feature_cols].describe().T"
   ]
  },
  {
   "cell_type": "code",
   "execution_count": 11,
   "id": "a81b5217",
   "metadata": {
    "scrolled": true
   },
   "outputs": [
    {
     "data": {
      "image/png": "[encoded data removed]",
      "text/plain": [
       "<Figure size 1440x1080 with 9 Axes>"
      ]
     },
     "metadata": {
      "needs_background": "light"
     },
     "output_type": "display_data"
    }
   ],
   "source": [
    "plot = df[feature_cols]\n",
    "plot.hist(figsize=(20,15));"
   ]
  },
  {
   "cell_type": "code",
   "execution_count": 12,
   "id": "85d42231",
   "metadata": {},
   "outputs": [
    {
     "data": {
      "image/png": "[encoded data removed]",
      "text/plain": [
       "<Figure size 576x360 with 2 Axes>"
      ]
     },
     "metadata": {
      "needs_background": "light"
     },
     "output_type": "display_data"
    }
   ],
   "source": [
    "plt.figure(figsize = (8, 5))\n",
    "for i in range(len(num_cols)):\n",
    "    plt.subplot(len(num_cols)//3+1, 3, i + 1)\n",
    "    sns.boxplot(y = df[num_cols[i]], x = df['gender'])\n",
    "    plt.title(num_cols[i], fontsize = 15)\n",
    "plt.tight_layout()\n",
    "plt.show()"
   ]
  },
  {
   "cell_type": "markdown",
   "id": "5cccbc8a",
   "metadata": {},
   "source": [
    "rata-rata dahi laki laki lebih lebar dan panjang dari pada perempuan"
   ]
  },
  {
   "cell_type": "code",
   "execution_count": 13,
   "id": "7a18b43e",
   "metadata": {
    "scrolled": false
   },
   "outputs": [
    {
     "data": {
      "image/png": "[encoded data removed]",
      "text/plain": [
       "<Figure size 720x576 with 1 Axes>"
      ]
     },
     "metadata": {
      "needs_background": "light"
     },
     "output_type": "display_data"
    }
   ],
   "source": [
    "plt.figure(figsize=(10,8))\n",
    "ax = sns.countplot(\n",
    "    x = df[\"gender\"]\n",
    ")\n",
    "plt.show()"
   ]
  },
  {
   "cell_type": "markdown",
   "id": "fa00c7ae",
   "metadata": {},
   "source": [
    "Data antar gender balance"
   ]
  },
  {
   "cell_type": "code",
   "execution_count": 14,
   "id": "505f4e7a",
   "metadata": {},
   "outputs": [
    {
     "data": {
      "image/png": "[encoded data removed]",
      "text/plain": [
       "<Figure size 1080x576 with 2 Axes>"
      ]
     },
     "metadata": {
      "needs_background": "light"
     },
     "output_type": "display_data"
    }
   ],
   "source": [
    "plt.figure(figsize=(15, 8))\n",
    "sns.heatmap(round(df[feature_cols].corr(method='spearman'), 2), \n",
    "            annot=True, mask=None, cmap='GnBu')\n",
    "plt.show()"
   ]
  },
  {
   "cell_type": "markdown",
   "id": "d237b368",
   "metadata": {},
   "source": [
    "# Preprocessing"
   ]
  },
  {
   "cell_type": "code",
   "execution_count": 15,
   "id": "8d548fc2",
   "metadata": {},
   "outputs": [],
   "source": [
    "X = df[feature_cols]\n",
    "y = df[cat_cols]"
   ]
  },
  {
   "cell_type": "markdown",
   "id": "1cc33fd1",
   "metadata": {},
   "source": [
    "## Split Data"
   ]
  },
  {
   "cell_type": "code",
   "execution_count": 16,
   "id": "c9298695",
   "metadata": {},
   "outputs": [],
   "source": [
    "from sklearn.model_selection import train_test_split\n",
    "X_train, X_test, y_train, y_test = train_test_split(X, y, random_state=42, stratify=y, test_size=0.2)"
   ]
  },
  {
   "cell_type": "markdown",
   "id": "ebddf302",
   "metadata": {},
   "source": [
    "## Scaling"
   ]
  },
  {
   "cell_type": "code",
   "execution_count": 17,
   "id": "1a0f8e6a",
   "metadata": {},
   "outputs": [
    {
     "data": {
      "text/plain": [
       "StandardScaler()"
      ]
     },
     "execution_count": 17,
     "metadata": {},
     "output_type": "execute_result"
    }
   ],
   "source": [
    "from sklearn.preprocessing import StandardScaler\n",
    "scaler = StandardScaler()\n",
    "scaler.fit(X_train)"
   ]
  },
  {
   "cell_type": "code",
   "execution_count": 18,
   "id": "b7c52781",
   "metadata": {},
   "outputs": [],
   "source": [
    "X_train_trf = scaler.transform(X_train)"
   ]
  },
  {
   "cell_type": "markdown",
   "id": "b82093d6",
   "metadata": {},
   "source": [
    "# Pipeline"
   ]
  },
  {
   "cell_type": "markdown",
   "id": "f93b724a",
   "metadata": {},
   "source": [
    "## Modeling"
   ]
  },
  {
   "cell_type": "code",
   "execution_count": 19,
   "id": "38b0ca60",
   "metadata": {},
   "outputs": [],
   "source": [
    "logreg = LogisticRegression()\n",
    "svm = SVC()\n",
    "clf = DecisionTreeClassifier()\n",
    "rf = RandomForestClassifier()"
   ]
  },
  {
   "cell_type": "code",
   "execution_count": 20,
   "id": "b322c052",
   "metadata": {},
   "outputs": [],
   "source": [
    "from sklearn.pipeline import Pipeline\n",
    "pipe_dict={}\n",
    "pipe_dict['LogisticRegression'] = Pipeline([(\"scaler\",  StandardScaler()), (\"lg\", logreg)])\n",
    "pipe_dict['SVM'] = Pipeline([(\"scaler2\",  StandardScaler()), (\"svm\", svm)])\n",
    "pipe_dict['DecisionTreeClf'] = Pipeline([(\"scaler3\",  StandardScaler()), (\"clf\",clf)])\n",
    "pipe_dict['RandomForestClassifier'] = Pipeline([(\"scaler4\",  StandardScaler()), (\"rf\",rf)])"
   ]
  },
  {
   "cell_type": "markdown",
   "id": "6674878d",
   "metadata": {},
   "source": [
    "## Training Model"
   ]
  },
  {
   "cell_type": "code",
   "execution_count": 21,
   "id": "cb125704",
   "metadata": {
    "scrolled": false
   },
   "outputs": [
    {
     "name": "stdout",
     "output_type": "stream",
     "text": [
      "Training model LogisticRegression\n",
      "Wall time: 9.76 ms\n",
      "Training model SVM\n",
      "Wall time: 56.6 ms\n",
      "Training model DecisionTreeClf\n",
      "Wall time: 5.86 ms\n",
      "Training model RandomForestClassifier\n",
      "Wall time: 180 ms\n"
     ]
    }
   ],
   "source": [
    "for model_name,model in pipe_dict.items():\n",
    "    print(f\"Training model {model_name}\")\n",
    "    %time model.fit(X_train_trf, y_train)"
   ]
  },
  {
   "cell_type": "markdown",
   "id": "c6b359a5",
   "metadata": {},
   "source": [
    "# Model Evaluation"
   ]
  },
  {
   "cell_type": "markdown",
   "id": "d9d10621",
   "metadata": {},
   "source": [
    "## Confusion Matrix"
   ]
  },
  {
   "cell_type": "code",
   "execution_count": 22,
   "id": "18165e7a",
   "metadata": {
    "scrolled": true
   },
   "outputs": [
    {
     "name": "stdout",
     "output_type": "stream",
     "text": [
      "Confusion matrix LogisticRegression:\n",
      "[[268  22]\n",
      " [ 15 342]]\n",
      "Confusion matrix SVM:\n",
      "[[276  14]\n",
      " [ 12 345]]\n",
      "Confusion matrix DecisionTreeClf:\n",
      "[[264  26]\n",
      " [ 19 338]]\n",
      "Confusion matrix RandomForestClassifier:\n",
      "[[269  21]\n",
      " [ 10 347]]\n"
     ]
    }
   ],
   "source": [
    "from sklearn.metrics import confusion_matrix\n",
    "for model_name,model in pipe_dict.items():\n",
    "    model.fit(X_train,y_train)\n",
    "    pred = model.predict(X_test)\n",
    "    confusion = confusion_matrix(y_test, pred)\n",
    "    print(f\"Confusion matrix {model_name}:\")\n",
    "    print(confusion)"
   ]
  },
  {
   "cell_type": "markdown",
   "id": "ccc23507",
   "metadata": {},
   "source": [
    "FN dan FP pada setiap model tidak telalu banyak, berarti model sudah cukup baik dalam memprediksi."
   ]
  },
  {
   "cell_type": "markdown",
   "id": "4aa41f32",
   "metadata": {},
   "source": [
    "## Classification Report"
   ]
  },
  {
   "cell_type": "code",
   "execution_count": 23,
   "id": "4042f10c",
   "metadata": {},
   "outputs": [
    {
     "name": "stdout",
     "output_type": "stream",
     "text": [
      "Classification report model :  LogisticRegression\n",
      "              precision    recall  f1-score   support\n",
      "\n",
      "      Female       0.95      0.92      0.94       290\n",
      "        Male       0.94      0.96      0.95       357\n",
      "\n",
      "    accuracy                           0.94       647\n",
      "   macro avg       0.94      0.94      0.94       647\n",
      "weighted avg       0.94      0.94      0.94       647\n",
      "\n",
      "Classification report model :  SVM\n",
      "              precision    recall  f1-score   support\n",
      "\n",
      "      Female       0.96      0.95      0.96       290\n",
      "        Male       0.96      0.97      0.96       357\n",
      "\n",
      "    accuracy                           0.96       647\n",
      "   macro avg       0.96      0.96      0.96       647\n",
      "weighted avg       0.96      0.96      0.96       647\n",
      "\n",
      "Classification report model :  DecisionTreeClf\n",
      "              precision    recall  f1-score   support\n",
      "\n",
      "      Female       0.94      0.92      0.93       290\n",
      "        Male       0.94      0.95      0.94       357\n",
      "\n",
      "    accuracy                           0.94       647\n",
      "   macro avg       0.94      0.94      0.94       647\n",
      "weighted avg       0.94      0.94      0.94       647\n",
      "\n",
      "Classification report model :  RandomForestClassifier\n",
      "              precision    recall  f1-score   support\n",
      "\n",
      "      Female       0.97      0.93      0.95       290\n",
      "        Male       0.95      0.97      0.96       357\n",
      "\n",
      "    accuracy                           0.96       647\n",
      "   macro avg       0.96      0.95      0.95       647\n",
      "weighted avg       0.96      0.96      0.96       647\n",
      "\n"
     ]
    }
   ],
   "source": [
    "from sklearn.metrics import classification_report\n",
    "for model_name,model in pipe_dict.items():\n",
    "    model.fit(X_train,y_train)\n",
    "    pred = model.predict(X_test)\n",
    "    print(f\"Classification report model :  {model_name}\")\n",
    "    print(classification_report(y_test, pred))"
   ]
  },
  {
   "cell_type": "markdown",
   "id": "bf2ad1dd",
   "metadata": {},
   "source": [
    "## Cross-Validation with kfold"
   ]
  },
  {
   "cell_type": "code",
   "execution_count": 24,
   "id": "d4325f8f",
   "metadata": {},
   "outputs": [],
   "source": [
    "from sklearn.model_selection import KFold\n",
    "kfold = KFold(n_splits=5)"
   ]
  },
  {
   "cell_type": "code",
   "execution_count": 25,
   "id": "41c44bd6",
   "metadata": {},
   "outputs": [
    {
     "name": "stdout",
     "output_type": "stream",
     "text": [
      "Name model LogisticRegression\n",
      "Cross-validation scores: 0.9473941562313655\n",
      "Name model SVM\n",
      "Cross-validation scores: 0.9443291592128802\n",
      "Name model DecisionTreeClf\n",
      "Cross-validation scores: 0.933536076326774\n",
      "Name model RandomForestClassifier\n",
      "Cross-validation scores: 0.9536195587358378\n"
     ]
    }
   ],
   "source": [
    "for model_name,model in pipe_dict.items():\n",
    "    scores = cross_val_score(model,X_test, y_test,cv=kfold)\n",
    "    print(f\"Name model {model_name}\")\n",
    "    print(\"Cross-validation scores: {}\".format(scores.mean()))"
   ]
  },
  {
   "cell_type": "markdown",
   "id": "84753e61",
   "metadata": {},
   "source": [
    "## Leave-One-Out Cross-Validation"
   ]
  },
  {
   "cell_type": "code",
   "execution_count": 26,
   "id": "d704c655",
   "metadata": {},
   "outputs": [
    {
     "name": "stdout",
     "output_type": "stream",
     "text": [
      "Name model LogisticRegression\n",
      "Cross-validation scores: 0.9505409582689336\n",
      "Name model SVM\n",
      "Cross-validation scores: 0.9428129829984544\n",
      "Name model DecisionTreeClf\n",
      "Cross-validation scores: 0.9412673879443586\n",
      "Name model RandomForestClassifier\n",
      "Cross-validation scores: 0.9629057187017002\n"
     ]
    }
   ],
   "source": [
    "from sklearn.model_selection import LeaveOneOut\n",
    "loo = LeaveOneOut()\n",
    "for model_name,model in pipe_dict.items():\n",
    "    scores = cross_val_score(model,X_test,y_test,cv=loo)\n",
    "    print(f\"Name model {model_name}\")\n",
    "    print(\"Cross-validation scores: {}\".format(scores.mean()))"
   ]
  },
  {
   "cell_type": "code",
   "execution_count": 27,
   "id": "490d76f3",
   "metadata": {},
   "outputs": [
    {
     "name": "stdout",
     "output_type": "stream",
     "text": [
      "Name model LogisticRegression\n",
      "Test score: 0.94\n",
      "Name model SVM\n",
      "Test score: 0.96\n",
      "Name model DecisionTreeClf\n",
      "Test score: 0.94\n",
      "Name model RandomForestClassifier\n",
      "Test score: 0.96\n"
     ]
    }
   ],
   "source": [
    "for model_name,model in pipe_dict.items():\n",
    "    print(f\"Name model {model_name}\")\n",
    "    print(\"Test score: {:.2f}\".format(model.score(X_test, y_test)))"
   ]
  },
  {
   "cell_type": "markdown",
   "id": "d1b65c18",
   "metadata": {},
   "source": [
    "# Model Improvment"
   ]
  },
  {
   "cell_type": "code",
   "execution_count": 28,
   "id": "ed42a65f",
   "metadata": {},
   "outputs": [],
   "source": [
    "#parameter untuk masing masing model\n",
    "param_lr = {'lg__solver':['sag','liblinear','saga','lbfgs'],\n",
    "           'lg__C': [0.001, 0.01, 0.1, 1, 10, 100],\n",
    "           'lg__intercept_scaling': [0.001, 0.01, 0.1, 1, 10, 100]}\n",
    "param_svm = {'svm__C': [0.001, 0.01, 0.1, 1, 10, 100],\n",
    "              'svm__gamma': [0.001, 0.01, 0.1, 1, 10, 100]}\n",
    "param_clf = {'clf__min_samples_split': [1,2,3,4,5],\n",
    "            'clf__splitter':['random','best']}\n",
    "param_rf = {'rf__criterion':['gini','entropy'],\n",
    "           'rf__min_samples_split': [2,3,4,5]}"
   ]
  },
  {
   "cell_type": "code",
   "execution_count": 29,
   "id": "d361af93",
   "metadata": {},
   "outputs": [
    {
     "name": "stdout",
     "output_type": "stream",
     "text": [
      "Best cross-validation accuracy: 0.95\n",
      "Test set score: 0.95\n",
      "Best parameters: {'lg__C': 0.01, 'lg__intercept_scaling': 1, 'lg__solver': 'liblinear'}\n"
     ]
    }
   ],
   "source": [
    "grid_lr = GridSearchCV(pipe_dict['LogisticRegression'], param_grid=param_lr, cv=5)\n",
    "grid_lr.fit(X_train, y_train)\n",
    "print(\"Best cross-validation accuracy: {:.2f}\".format(grid_lr.best_score_))\n",
    "print(\"Test set score: {:.2f}\".format(grid_lr.score(X_test, y_test)))\n",
    "print(\"Best parameters: {}\".format(grid_lr.best_params_))"
   ]
  },
  {
   "cell_type": "code",
   "execution_count": 30,
   "id": "d780028b",
   "metadata": {},
   "outputs": [
    {
     "name": "stdout",
     "output_type": "stream",
     "text": [
      "Best cross-validation accuracy: 0.96\n",
      "Test set score: 0.96\n",
      "Best parameters: {'svm__C': 100, 'svm__gamma': 0.01}\n"
     ]
    }
   ],
   "source": [
    "grid_svm = GridSearchCV(pipe_dict['SVM'], param_grid=param_svm, cv=5)\n",
    "grid_svm.fit(X_train, y_train)\n",
    "print(\"Best cross-validation accuracy: {:.2f}\".format(grid_svm.best_score_))\n",
    "print(\"Test set score: {:.2f}\".format(grid_svm.score(X_test, y_test)))\n",
    "print(\"Best parameters: {}\".format(grid_svm.best_params_))"
   ]
  },
  {
   "cell_type": "code",
   "execution_count": 31,
   "id": "c67bc484",
   "metadata": {},
   "outputs": [
    {
     "name": "stdout",
     "output_type": "stream",
     "text": [
      "Best cross-validation accuracy: 0.95\n",
      "Test set score: 0.94\n",
      "Best parameters: {'clf__min_samples_split': 5, 'clf__splitter': 'best'}\n"
     ]
    }
   ],
   "source": [
    "grid_clf = GridSearchCV(pipe_dict['DecisionTreeClf'], param_grid=param_clf, cv=5)\n",
    "grid_clf.fit(X_train, y_train)\n",
    "print(\"Best cross-validation accuracy: {:.2f}\".format(grid_clf.best_score_))\n",
    "print(\"Test set score: {:.2f}\".format(grid_clf.score(X_test, y_test)))\n",
    "print(\"Best parameters: {}\".format(grid_clf.best_params_))"
   ]
  },
  {
   "cell_type": "code",
   "execution_count": 32,
   "id": "c194e5d8",
   "metadata": {},
   "outputs": [
    {
     "name": "stdout",
     "output_type": "stream",
     "text": [
      "Best cross-validation accuracy: 0.95\n",
      "Test set score: 0.96\n",
      "Best parameters: {'rf__criterion': 'gini', 'rf__min_samples_split': 5}\n"
     ]
    }
   ],
   "source": [
    "grid_rf = GridSearchCV(pipe_dict['RandomForestClassifier'], param_grid=param_rf, cv=5)\n",
    "grid_rf.fit(X_train, y_train)\n",
    "print(\"Best cross-validation accuracy: {:.2f}\".format(grid_clf.best_score_))\n",
    "print(\"Test set score: {:.2f}\".format(grid_rf.score(X_test, y_test)))\n",
    "print(\"Best parameters: {}\".format(grid_rf.best_params_))"
   ]
  },
  {
   "cell_type": "markdown",
   "id": "a46bdf33",
   "metadata": {},
   "source": [
    "# Model Inference"
   ]
  },
  {
   "cell_type": "code",
   "execution_count": 33,
   "id": "b09b6f8d",
   "metadata": {},
   "outputs": [
    {
     "data": {
      "text/html": [
       "<div>\n",
       "<style scoped>\n",
       "    .dataframe tbody tr th:only-of-type {\n",
       "        vertical-align: middle;\n",
       "    }\n",
       "\n",
       "    .dataframe tbody tr th {\n",
       "        vertical-align: top;\n",
       "    }\n",
       "\n",
       "    .dataframe thead th {\n",
       "        text-align: right;\n",
       "    }\n",
       "</style>\n",
       "<table border=\"1\" class=\"dataframe\">\n",
       "  <thead>\n",
       "    <tr style=\"text-align: right;\">\n",
       "      <th></th>\n",
       "      <th>long_hair</th>\n",
       "      <th>forehead_width_cm</th>\n",
       "      <th>forehead_height_cm</th>\n",
       "      <th>nose_wide</th>\n",
       "      <th>nose_long</th>\n",
       "      <th>lips_thin</th>\n",
       "      <th>distance_nose_to_lip_long</th>\n",
       "    </tr>\n",
       "  </thead>\n",
       "  <tbody>\n",
       "    <tr>\n",
       "      <th>3315</th>\n",
       "      <td>1</td>\n",
       "      <td>14.1</td>\n",
       "      <td>5.8</td>\n",
       "      <td>1</td>\n",
       "      <td>0</td>\n",
       "      <td>1</td>\n",
       "      <td>1</td>\n",
       "    </tr>\n",
       "  </tbody>\n",
       "</table>\n",
       "</div>"
      ],
      "text/plain": [
       "      long_hair  forehead_width_cm  forehead_height_cm  nose_wide  nose_long  \\\n",
       "3315          1               14.1                 5.8          1          0   \n",
       "\n",
       "      lips_thin  distance_nose_to_lip_long  \n",
       "3315          1                          1  "
      ]
     },
     "execution_count": 33,
     "metadata": {},
     "output_type": "execute_result"
    }
   ],
   "source": [
    "X_train.head(1)"
   ]
  },
  {
   "cell_type": "code",
   "execution_count": 34,
   "id": "948941bc",
   "metadata": {},
   "outputs": [],
   "source": [
    "new_data = [[0,15.7,5.2,1,1,1,0],\n",
    "            [0,15.5,6.2,0,0,1,0]\n",
    "           ]\n",
    "new_data_scaled = scaler.transform(new_data)"
   ]
  },
  {
   "cell_type": "code",
   "execution_count": 35,
   "id": "d550bf62",
   "metadata": {},
   "outputs": [
    {
     "name": "stdout",
     "output_type": "stream",
     "text": [
      "['Female' 'Female']\n"
     ]
    }
   ],
   "source": [
    "y_predict_lr = pipe_dict['LogisticRegression'].predict(new_data_scaled)\n",
    "print(y_predict_lr)"
   ]
  },
  {
   "cell_type": "code",
   "execution_count": 36,
   "id": "f75573e1",
   "metadata": {},
   "outputs": [
    {
     "name": "stdout",
     "output_type": "stream",
     "text": [
      "['Male' 'Male']\n"
     ]
    }
   ],
   "source": [
    "y_predict_svm = pipe_dict['SVM'].predict(new_data_scaled)\n",
    "print(y_predict_svm)"
   ]
  },
  {
   "cell_type": "code",
   "execution_count": 37,
   "id": "5bf72e17",
   "metadata": {},
   "outputs": [
    {
     "name": "stdout",
     "output_type": "stream",
     "text": [
      "['Female' 'Female']\n"
     ]
    }
   ],
   "source": [
    "y_predict_clf = pipe_dict['DecisionTreeClf'].predict(new_data_scaled)\n",
    "print(y_predict_clf)"
   ]
  },
  {
   "cell_type": "code",
   "execution_count": 38,
   "id": "b272e598",
   "metadata": {},
   "outputs": [
    {
     "name": "stdout",
     "output_type": "stream",
     "text": [
      "['Male' 'Female']\n"
     ]
    }
   ],
   "source": [
    "y_predict_clf = pipe_dict['RandomForestClassifier'].predict(new_data_scaled)\n",
    "print(y_predict_clf)"
   ]
  },
  {
   "cell_type": "markdown",
   "id": "ac8e0b76",
   "metadata": {},
   "source": [
    "# Model Analysis"
   ]
  },
  {
   "cell_type": "markdown",
   "id": "6b0b338a",
   "metadata": {},
   "source": [
    "## Parameter Optimal untuk masing masing model"
   ]
  },
  {
   "cell_type": "markdown",
   "id": "fbf25ad6",
   "metadata": {},
   "source": [
    "1. LogisticRegression: Pada model ini parameter yang paling optimal adalah solver:'liblinear', C:'0,01',dan intercept_scaling:'1'.\n",
    "2. SVM: Pada model ini parameter yang paling optimal adalah gamma:'0,01'dan C:'100'.\n",
    "3. DecisionTreeClassifier: Pada model ini parameter yang paling optimal adalah min_samples_split:'5'dan Spliter:'best'.\n",
    "4. RandomForestClassifier: Pada model ini parameter yang paling optimal adalah min_samples_split:'3'dan Criterion:'gini'."
   ]
  },
  {
   "cell_type": "markdown",
   "id": "d0687362",
   "metadata": {},
   "source": [
    "## Model paling optimal"
   ]
  },
  {
   "cell_type": "markdown",
   "id": "2c5897a8",
   "metadata": {},
   "source": [
    "Menurut saya, Model SVM cukup optimal dibandingkan 3 model yang lain. Karna accuracynya mencapai 96% dan score test nya mencapai 96%. Tetapi modelnya juga butuh parameter yang tepat agar mendapatkan hasil yang optimal. Kekurangan model svm adalah training model yang lebih lama dibandingkan 3 model lainnya."
   ]
  }
 ],
 "metadata": {
  "kernelspec": {
   "display_name": "Python 3",
   "language": "python",
   "name": "python3"
  },
  "language_info": {
   "codemirror_mode": {
    "name": "ipython",
    "version": 3
   },
   "file_extension": ".py",
   "mimetype": "text/x-python",
   "name": "python",
   "nbconvert_exporter": "python",
   "pygments_lexer": "ipython3",
   "version": "3.8.8"
  }
 },
 "nbformat": 4,
 "nbformat_minor": 5
}
